{
 "cells": [
  {
   "cell_type": "code",
   "execution_count": 1,
   "id": "3f966449",
   "metadata": {},
   "outputs": [],
   "source": [
    "import pandas as pd\n",
    "import matplotlib.pyplot as plt\n",
    "import seaborn as sns\n",
    "import numpy as np"
   ]
  },
  {
   "cell_type": "code",
   "execution_count": 2,
   "id": "e582602f",
   "metadata": {},
   "outputs": [
    {
     "data": {
      "text/html": [
       "<div>\n",
       "<style scoped>\n",
       "    .dataframe tbody tr th:only-of-type {\n",
       "        vertical-align: middle;\n",
       "    }\n",
       "\n",
       "    .dataframe tbody tr th {\n",
       "        vertical-align: top;\n",
       "    }\n",
       "\n",
       "    .dataframe thead th {\n",
       "        text-align: right;\n",
       "    }\n",
       "</style>\n",
       "<table border=\"1\" class=\"dataframe\">\n",
       "  <thead>\n",
       "    <tr style=\"text-align: right;\">\n",
       "      <th></th>\n",
       "      <th>Season</th>\n",
       "      <th>Team_Name</th>\n",
       "      <th>Player_Name</th>\n",
       "      <th>Player_Position</th>\n",
       "      <th>Matches_Played</th>\n",
       "      <th>Player_Successful_Raids</th>\n",
       "      <th>Player_Raid_Points</th>\n",
       "      <th>Player_Successful_Tackles</th>\n",
       "      <th>Super_Tackles</th>\n",
       "      <th>Super_10s</th>\n",
       "      <th>High_5s</th>\n",
       "      <th>Total_Points</th>\n",
       "      <th>Tackle_Points</th>\n",
       "      <th>Super_Raids</th>\n",
       "      <th>DOD_Raid_Points</th>\n",
       "      <th>Avg_Raid_Points</th>\n",
       "      <th>Retention</th>\n",
       "    </tr>\n",
       "  </thead>\n",
       "  <tbody>\n",
       "    <tr>\n",
       "      <th>0</th>\n",
       "      <td>1</td>\n",
       "      <td>Bengaluru Bulls</td>\n",
       "      <td>Ajay Thakur</td>\n",
       "      <td>Raider</td>\n",
       "      <td>15</td>\n",
       "      <td>96</td>\n",
       "      <td>122</td>\n",
       "      <td>5</td>\n",
       "      <td>NaN</td>\n",
       "      <td>5.0</td>\n",
       "      <td>NaN</td>\n",
       "      <td>127</td>\n",
       "      <td>5</td>\n",
       "      <td>2.0</td>\n",
       "      <td>8.0</td>\n",
       "      <td>8.13</td>\n",
       "      <td>0</td>\n",
       "    </tr>\n",
       "    <tr>\n",
       "      <th>1</th>\n",
       "      <td>1</td>\n",
       "      <td>Bengaluru Bulls</td>\n",
       "      <td>Manjeet Chhillar</td>\n",
       "      <td>All Rounder</td>\n",
       "      <td>16</td>\n",
       "      <td>53</td>\n",
       "      <td>71</td>\n",
       "      <td>51</td>\n",
       "      <td>NaN</td>\n",
       "      <td>2.0</td>\n",
       "      <td>3.0</td>\n",
       "      <td>122</td>\n",
       "      <td>51</td>\n",
       "      <td>2.0</td>\n",
       "      <td>7.0</td>\n",
       "      <td>4.44</td>\n",
       "      <td>0</td>\n",
       "    </tr>\n",
       "    <tr>\n",
       "      <th>2</th>\n",
       "      <td>1</td>\n",
       "      <td>Bengaluru Bulls</td>\n",
       "      <td>Rajesh Mondal</td>\n",
       "      <td>Raider</td>\n",
       "      <td>15</td>\n",
       "      <td>32</td>\n",
       "      <td>39</td>\n",
       "      <td>4</td>\n",
       "      <td>1.0</td>\n",
       "      <td>NaN</td>\n",
       "      <td>NaN</td>\n",
       "      <td>44</td>\n",
       "      <td>5</td>\n",
       "      <td>2.0</td>\n",
       "      <td>10.0</td>\n",
       "      <td>2.60</td>\n",
       "      <td>0</td>\n",
       "    </tr>\n",
       "    <tr>\n",
       "      <th>3</th>\n",
       "      <td>1</td>\n",
       "      <td>Bengaluru Bulls</td>\n",
       "      <td>Deepak Kumar Dahiya</td>\n",
       "      <td>Raider</td>\n",
       "      <td>7</td>\n",
       "      <td>15</td>\n",
       "      <td>19</td>\n",
       "      <td>2</td>\n",
       "      <td>NaN</td>\n",
       "      <td>NaN</td>\n",
       "      <td>NaN</td>\n",
       "      <td>21</td>\n",
       "      <td>2</td>\n",
       "      <td>NaN</td>\n",
       "      <td>9.0</td>\n",
       "      <td>2.71</td>\n",
       "      <td>0</td>\n",
       "    </tr>\n",
       "    <tr>\n",
       "      <th>4</th>\n",
       "      <td>1</td>\n",
       "      <td>Bengaluru Bulls</td>\n",
       "      <td>Parmod Narwal</td>\n",
       "      <td>All Rounder</td>\n",
       "      <td>16</td>\n",
       "      <td>10</td>\n",
       "      <td>13</td>\n",
       "      <td>20</td>\n",
       "      <td>3.0</td>\n",
       "      <td>NaN</td>\n",
       "      <td>NaN</td>\n",
       "      <td>36</td>\n",
       "      <td>23</td>\n",
       "      <td>NaN</td>\n",
       "      <td>1.0</td>\n",
       "      <td>0.81</td>\n",
       "      <td>0</td>\n",
       "    </tr>\n",
       "    <tr>\n",
       "      <th>5</th>\n",
       "      <td>1</td>\n",
       "      <td>Bengaluru Bulls</td>\n",
       "      <td>Dharmaraj Cheralathan</td>\n",
       "      <td>Defender</td>\n",
       "      <td>16</td>\n",
       "      <td>8</td>\n",
       "      <td>13</td>\n",
       "      <td>34</td>\n",
       "      <td>5.0</td>\n",
       "      <td>NaN</td>\n",
       "      <td>2.0</td>\n",
       "      <td>52</td>\n",
       "      <td>39</td>\n",
       "      <td>NaN</td>\n",
       "      <td>3.0</td>\n",
       "      <td>0.81</td>\n",
       "      <td>0</td>\n",
       "    </tr>\n",
       "    <tr>\n",
       "      <th>6</th>\n",
       "      <td>1</td>\n",
       "      <td>Bengaluru Bulls</td>\n",
       "      <td>Preetam Chhillar</td>\n",
       "      <td>All Rounder</td>\n",
       "      <td>11</td>\n",
       "      <td>3</td>\n",
       "      <td>5</td>\n",
       "      <td>7</td>\n",
       "      <td>NaN</td>\n",
       "      <td>NaN</td>\n",
       "      <td>NaN</td>\n",
       "      <td>12</td>\n",
       "      <td>7</td>\n",
       "      <td>NaN</td>\n",
       "      <td>NaN</td>\n",
       "      <td>0.45</td>\n",
       "      <td>0</td>\n",
       "    </tr>\n",
       "    <tr>\n",
       "      <th>7</th>\n",
       "      <td>1</td>\n",
       "      <td>Bengaluru Bulls</td>\n",
       "      <td>Sinotharan Kanesharajah</td>\n",
       "      <td>Raider</td>\n",
       "      <td>1</td>\n",
       "      <td>2</td>\n",
       "      <td>4</td>\n",
       "      <td>1</td>\n",
       "      <td>NaN</td>\n",
       "      <td>NaN</td>\n",
       "      <td>NaN</td>\n",
       "      <td>5</td>\n",
       "      <td>1</td>\n",
       "      <td>1.0</td>\n",
       "      <td>NaN</td>\n",
       "      <td>4.00</td>\n",
       "      <td>0</td>\n",
       "    </tr>\n",
       "    <tr>\n",
       "      <th>8</th>\n",
       "      <td>1</td>\n",
       "      <td>Bengaluru Bulls</td>\n",
       "      <td>Gurpreet Singh</td>\n",
       "      <td>Defender</td>\n",
       "      <td>16</td>\n",
       "      <td>1</td>\n",
       "      <td>2</td>\n",
       "      <td>24</td>\n",
       "      <td>1.0</td>\n",
       "      <td>NaN</td>\n",
       "      <td>1.0</td>\n",
       "      <td>27</td>\n",
       "      <td>25</td>\n",
       "      <td>NaN</td>\n",
       "      <td>1.0</td>\n",
       "      <td>0.13</td>\n",
       "      <td>0</td>\n",
       "    </tr>\n",
       "    <tr>\n",
       "      <th>9</th>\n",
       "      <td>1</td>\n",
       "      <td>Bengaluru Bulls</td>\n",
       "      <td>Sunil Hanumanthappa</td>\n",
       "      <td>Raider</td>\n",
       "      <td>5</td>\n",
       "      <td>1</td>\n",
       "      <td>2</td>\n",
       "      <td>2</td>\n",
       "      <td>NaN</td>\n",
       "      <td>NaN</td>\n",
       "      <td>NaN</td>\n",
       "      <td>4</td>\n",
       "      <td>2</td>\n",
       "      <td>NaN</td>\n",
       "      <td>NaN</td>\n",
       "      <td>0.40</td>\n",
       "      <td>0</td>\n",
       "    </tr>\n",
       "  </tbody>\n",
       "</table>\n",
       "</div>"
      ],
      "text/plain": [
       "   Season        Team_Name              Player_Name Player_Position  \\\n",
       "0       1  Bengaluru Bulls              Ajay Thakur          Raider   \n",
       "1       1  Bengaluru Bulls         Manjeet Chhillar     All Rounder   \n",
       "2       1  Bengaluru Bulls            Rajesh Mondal          Raider   \n",
       "3       1  Bengaluru Bulls      Deepak Kumar Dahiya          Raider   \n",
       "4       1  Bengaluru Bulls            Parmod Narwal     All Rounder   \n",
       "5       1  Bengaluru Bulls    Dharmaraj Cheralathan        Defender   \n",
       "6       1  Bengaluru Bulls         Preetam Chhillar     All Rounder   \n",
       "7       1  Bengaluru Bulls  Sinotharan Kanesharajah          Raider   \n",
       "8       1  Bengaluru Bulls           Gurpreet Singh        Defender   \n",
       "9       1  Bengaluru Bulls      Sunil Hanumanthappa          Raider   \n",
       "\n",
       "   Matches_Played  Player_Successful_Raids  Player_Raid_Points  \\\n",
       "0              15                       96                 122   \n",
       "1              16                       53                  71   \n",
       "2              15                       32                  39   \n",
       "3               7                       15                  19   \n",
       "4              16                       10                  13   \n",
       "5              16                        8                  13   \n",
       "6              11                        3                   5   \n",
       "7               1                        2                   4   \n",
       "8              16                        1                   2   \n",
       "9               5                        1                   2   \n",
       "\n",
       "   Player_Successful_Tackles  Super_Tackles  Super_10s  High_5s  Total_Points  \\\n",
       "0                          5            NaN        5.0      NaN           127   \n",
       "1                         51            NaN        2.0      3.0           122   \n",
       "2                          4            1.0        NaN      NaN            44   \n",
       "3                          2            NaN        NaN      NaN            21   \n",
       "4                         20            3.0        NaN      NaN            36   \n",
       "5                         34            5.0        NaN      2.0            52   \n",
       "6                          7            NaN        NaN      NaN            12   \n",
       "7                          1            NaN        NaN      NaN             5   \n",
       "8                         24            1.0        NaN      1.0            27   \n",
       "9                          2            NaN        NaN      NaN             4   \n",
       "\n",
       "   Tackle_Points  Super_Raids  DOD_Raid_Points  Avg_Raid_Points  Retention  \n",
       "0              5          2.0              8.0             8.13          0  \n",
       "1             51          2.0              7.0             4.44          0  \n",
       "2              5          2.0             10.0             2.60          0  \n",
       "3              2          NaN              9.0             2.71          0  \n",
       "4             23          NaN              1.0             0.81          0  \n",
       "5             39          NaN              3.0             0.81          0  \n",
       "6              7          NaN              NaN             0.45          0  \n",
       "7              1          1.0              NaN             4.00          0  \n",
       "8             25          NaN              1.0             0.13          0  \n",
       "9              2          NaN              NaN             0.40          0  "
      ]
     },
     "execution_count": 2,
     "metadata": {},
     "output_type": "execute_result"
    }
   ],
   "source": [
    "df = pd.read_csv(\"C:/Users/Vishal Singh Rawat/Documents/Project/PKL_Players.csv\")\n",
    "df.head(10)"
   ]
  },
  {
   "cell_type": "code",
   "execution_count": 3,
   "id": "bb077b99",
   "metadata": {},
   "outputs": [
    {
     "data": {
      "text/html": [
       "<div>\n",
       "<style scoped>\n",
       "    .dataframe tbody tr th:only-of-type {\n",
       "        vertical-align: middle;\n",
       "    }\n",
       "\n",
       "    .dataframe tbody tr th {\n",
       "        vertical-align: top;\n",
       "    }\n",
       "\n",
       "    .dataframe thead th {\n",
       "        text-align: right;\n",
       "    }\n",
       "</style>\n",
       "<table border=\"1\" class=\"dataframe\">\n",
       "  <thead>\n",
       "    <tr style=\"text-align: right;\">\n",
       "      <th></th>\n",
       "      <th>Season</th>\n",
       "      <th>Matches_Played</th>\n",
       "      <th>Player_Successful_Raids</th>\n",
       "      <th>Player_Raid_Points</th>\n",
       "      <th>Player_Successful_Tackles</th>\n",
       "      <th>Super_Tackles</th>\n",
       "      <th>Super_10s</th>\n",
       "      <th>High_5s</th>\n",
       "      <th>Total_Points</th>\n",
       "      <th>Tackle_Points</th>\n",
       "      <th>Super_Raids</th>\n",
       "      <th>DOD_Raid_Points</th>\n",
       "      <th>Avg_Raid_Points</th>\n",
       "      <th>Retention</th>\n",
       "    </tr>\n",
       "  </thead>\n",
       "  <tbody>\n",
       "    <tr>\n",
       "      <th>count</th>\n",
       "      <td>296.000000</td>\n",
       "      <td>296.000000</td>\n",
       "      <td>296.000000</td>\n",
       "      <td>296.000000</td>\n",
       "      <td>296.000000</td>\n",
       "      <td>128.000000</td>\n",
       "      <td>44.000000</td>\n",
       "      <td>75.000000</td>\n",
       "      <td>296.000000</td>\n",
       "      <td>296.000000</td>\n",
       "      <td>73.000000</td>\n",
       "      <td>152.000000</td>\n",
       "      <td>296.000000</td>\n",
       "      <td>296.000000</td>\n",
       "    </tr>\n",
       "    <tr>\n",
       "      <th>mean</th>\n",
       "      <td>4.584459</td>\n",
       "      <td>11.500000</td>\n",
       "      <td>20.628378</td>\n",
       "      <td>26.381757</td>\n",
       "      <td>13.057432</td>\n",
       "      <td>2.554688</td>\n",
       "      <td>4.659091</td>\n",
       "      <td>2.400000</td>\n",
       "      <td>38.922297</td>\n",
       "      <td>13.780405</td>\n",
       "      <td>2.863014</td>\n",
       "      <td>8.644737</td>\n",
       "      <td>1.952635</td>\n",
       "      <td>0.456081</td>\n",
       "    </tr>\n",
       "    <tr>\n",
       "      <th>std</th>\n",
       "      <td>2.431355</td>\n",
       "      <td>6.765315</td>\n",
       "      <td>39.713684</td>\n",
       "      <td>50.428330</td>\n",
       "      <td>16.313665</td>\n",
       "      <td>1.914752</td>\n",
       "      <td>4.836601</td>\n",
       "      <td>1.700556</td>\n",
       "      <td>51.410518</td>\n",
       "      <td>17.559847</td>\n",
       "      <td>2.795408</td>\n",
       "      <td>9.119086</td>\n",
       "      <td>2.545522</td>\n",
       "      <td>0.498911</td>\n",
       "    </tr>\n",
       "    <tr>\n",
       "      <th>min</th>\n",
       "      <td>1.000000</td>\n",
       "      <td>1.000000</td>\n",
       "      <td>1.000000</td>\n",
       "      <td>1.000000</td>\n",
       "      <td>1.000000</td>\n",
       "      <td>1.000000</td>\n",
       "      <td>1.000000</td>\n",
       "      <td>1.000000</td>\n",
       "      <td>1.000000</td>\n",
       "      <td>1.000000</td>\n",
       "      <td>1.000000</td>\n",
       "      <td>1.000000</td>\n",
       "      <td>0.010000</td>\n",
       "      <td>0.000000</td>\n",
       "    </tr>\n",
       "    <tr>\n",
       "      <th>25%</th>\n",
       "      <td>2.000000</td>\n",
       "      <td>6.000000</td>\n",
       "      <td>2.000000</td>\n",
       "      <td>2.000000</td>\n",
       "      <td>2.000000</td>\n",
       "      <td>1.000000</td>\n",
       "      <td>1.000000</td>\n",
       "      <td>1.000000</td>\n",
       "      <td>5.000000</td>\n",
       "      <td>2.000000</td>\n",
       "      <td>1.000000</td>\n",
       "      <td>2.000000</td>\n",
       "      <td>0.210000</td>\n",
       "      <td>0.000000</td>\n",
       "    </tr>\n",
       "    <tr>\n",
       "      <th>50%</th>\n",
       "      <td>4.000000</td>\n",
       "      <td>11.000000</td>\n",
       "      <td>3.000000</td>\n",
       "      <td>5.000000</td>\n",
       "      <td>5.000000</td>\n",
       "      <td>2.000000</td>\n",
       "      <td>3.000000</td>\n",
       "      <td>2.000000</td>\n",
       "      <td>21.500000</td>\n",
       "      <td>5.000000</td>\n",
       "      <td>2.000000</td>\n",
       "      <td>5.000000</td>\n",
       "      <td>1.000000</td>\n",
       "      <td>0.000000</td>\n",
       "    </tr>\n",
       "    <tr>\n",
       "      <th>75%</th>\n",
       "      <td>7.000000</td>\n",
       "      <td>16.000000</td>\n",
       "      <td>17.250000</td>\n",
       "      <td>24.000000</td>\n",
       "      <td>19.000000</td>\n",
       "      <td>3.000000</td>\n",
       "      <td>5.000000</td>\n",
       "      <td>3.000000</td>\n",
       "      <td>52.000000</td>\n",
       "      <td>20.000000</td>\n",
       "      <td>3.000000</td>\n",
       "      <td>11.250000</td>\n",
       "      <td>2.815000</td>\n",
       "      <td>1.000000</td>\n",
       "    </tr>\n",
       "    <tr>\n",
       "      <th>max</th>\n",
       "      <td>8.000000</td>\n",
       "      <td>24.000000</td>\n",
       "      <td>262.000000</td>\n",
       "      <td>346.000000</td>\n",
       "      <td>86.000000</td>\n",
       "      <td>9.000000</td>\n",
       "      <td>18.000000</td>\n",
       "      <td>10.000000</td>\n",
       "      <td>360.000000</td>\n",
       "      <td>89.000000</td>\n",
       "      <td>14.000000</td>\n",
       "      <td>41.000000</td>\n",
       "      <td>14.420000</td>\n",
       "      <td>1.000000</td>\n",
       "    </tr>\n",
       "  </tbody>\n",
       "</table>\n",
       "</div>"
      ],
      "text/plain": [
       "           Season  Matches_Played  Player_Successful_Raids  \\\n",
       "count  296.000000      296.000000               296.000000   \n",
       "mean     4.584459       11.500000                20.628378   \n",
       "std      2.431355        6.765315                39.713684   \n",
       "min      1.000000        1.000000                 1.000000   \n",
       "25%      2.000000        6.000000                 2.000000   \n",
       "50%      4.000000       11.000000                 3.000000   \n",
       "75%      7.000000       16.000000                17.250000   \n",
       "max      8.000000       24.000000               262.000000   \n",
       "\n",
       "       Player_Raid_Points  Player_Successful_Tackles  Super_Tackles  \\\n",
       "count          296.000000                 296.000000     128.000000   \n",
       "mean            26.381757                  13.057432       2.554688   \n",
       "std             50.428330                  16.313665       1.914752   \n",
       "min              1.000000                   1.000000       1.000000   \n",
       "25%              2.000000                   2.000000       1.000000   \n",
       "50%              5.000000                   5.000000       2.000000   \n",
       "75%             24.000000                  19.000000       3.000000   \n",
       "max            346.000000                  86.000000       9.000000   \n",
       "\n",
       "       Super_10s    High_5s  Total_Points  Tackle_Points  Super_Raids  \\\n",
       "count  44.000000  75.000000    296.000000     296.000000    73.000000   \n",
       "mean    4.659091   2.400000     38.922297      13.780405     2.863014   \n",
       "std     4.836601   1.700556     51.410518      17.559847     2.795408   \n",
       "min     1.000000   1.000000      1.000000       1.000000     1.000000   \n",
       "25%     1.000000   1.000000      5.000000       2.000000     1.000000   \n",
       "50%     3.000000   2.000000     21.500000       5.000000     2.000000   \n",
       "75%     5.000000   3.000000     52.000000      20.000000     3.000000   \n",
       "max    18.000000  10.000000    360.000000      89.000000    14.000000   \n",
       "\n",
       "       DOD_Raid_Points  Avg_Raid_Points   Retention  \n",
       "count       152.000000       296.000000  296.000000  \n",
       "mean          8.644737         1.952635    0.456081  \n",
       "std           9.119086         2.545522    0.498911  \n",
       "min           1.000000         0.010000    0.000000  \n",
       "25%           2.000000         0.210000    0.000000  \n",
       "50%           5.000000         1.000000    0.000000  \n",
       "75%          11.250000         2.815000    1.000000  \n",
       "max          41.000000        14.420000    1.000000  "
      ]
     },
     "execution_count": 3,
     "metadata": {},
     "output_type": "execute_result"
    }
   ],
   "source": [
    "df.describe()"
   ]
  },
  {
   "cell_type": "code",
   "execution_count": 4,
   "id": "0a43b907",
   "metadata": {},
   "outputs": [],
   "source": [
    "df.fillna({\"Super_Tackles\": 0, \n",
    "            \"Super_10s\": 0, \n",
    "            \"High_5s\": 0, \n",
    "            \"Super_Raids\": 0, \n",
    "            \"DOD_Raid_Points\": 0}, inplace=True)"
   ]
  },
  {
   "cell_type": "code",
   "execution_count": 5,
   "id": "ee0d931e",
   "metadata": {},
   "outputs": [
    {
     "data": {
      "text/html": [
       "<div>\n",
       "<style scoped>\n",
       "    .dataframe tbody tr th:only-of-type {\n",
       "        vertical-align: middle;\n",
       "    }\n",
       "\n",
       "    .dataframe tbody tr th {\n",
       "        vertical-align: top;\n",
       "    }\n",
       "\n",
       "    .dataframe thead th {\n",
       "        text-align: right;\n",
       "    }\n",
       "</style>\n",
       "<table border=\"1\" class=\"dataframe\">\n",
       "  <thead>\n",
       "    <tr style=\"text-align: right;\">\n",
       "      <th></th>\n",
       "      <th>Player_Successful_Raids</th>\n",
       "      <th>Player_Raid_Points</th>\n",
       "      <th>Player_Successful_Tackles</th>\n",
       "      <th>Super_Tackles</th>\n",
       "      <th>Total_Points</th>\n",
       "      <th>Tackle_Points</th>\n",
       "      <th>Super_Raids</th>\n",
       "      <th>DOD_Raid_Points</th>\n",
       "    </tr>\n",
       "  </thead>\n",
       "  <tbody>\n",
       "    <tr>\n",
       "      <th>count</th>\n",
       "      <td>296.000000</td>\n",
       "      <td>296.000000</td>\n",
       "      <td>296.000000</td>\n",
       "      <td>296.000000</td>\n",
       "      <td>296.000000</td>\n",
       "      <td>296.000000</td>\n",
       "      <td>296.000000</td>\n",
       "      <td>296.000000</td>\n",
       "    </tr>\n",
       "    <tr>\n",
       "      <th>mean</th>\n",
       "      <td>20.628378</td>\n",
       "      <td>26.381757</td>\n",
       "      <td>13.057432</td>\n",
       "      <td>1.104730</td>\n",
       "      <td>38.922297</td>\n",
       "      <td>13.780405</td>\n",
       "      <td>0.706081</td>\n",
       "      <td>4.439189</td>\n",
       "    </tr>\n",
       "    <tr>\n",
       "      <th>std</th>\n",
       "      <td>39.713684</td>\n",
       "      <td>50.428330</td>\n",
       "      <td>16.313665</td>\n",
       "      <td>1.784826</td>\n",
       "      <td>51.410518</td>\n",
       "      <td>17.559847</td>\n",
       "      <td>1.853470</td>\n",
       "      <td>7.829303</td>\n",
       "    </tr>\n",
       "    <tr>\n",
       "      <th>min</th>\n",
       "      <td>1.000000</td>\n",
       "      <td>1.000000</td>\n",
       "      <td>1.000000</td>\n",
       "      <td>0.000000</td>\n",
       "      <td>1.000000</td>\n",
       "      <td>1.000000</td>\n",
       "      <td>0.000000</td>\n",
       "      <td>0.000000</td>\n",
       "    </tr>\n",
       "    <tr>\n",
       "      <th>25%</th>\n",
       "      <td>2.000000</td>\n",
       "      <td>2.000000</td>\n",
       "      <td>2.000000</td>\n",
       "      <td>0.000000</td>\n",
       "      <td>5.000000</td>\n",
       "      <td>2.000000</td>\n",
       "      <td>0.000000</td>\n",
       "      <td>0.000000</td>\n",
       "    </tr>\n",
       "    <tr>\n",
       "      <th>50%</th>\n",
       "      <td>3.000000</td>\n",
       "      <td>5.000000</td>\n",
       "      <td>5.000000</td>\n",
       "      <td>0.000000</td>\n",
       "      <td>21.500000</td>\n",
       "      <td>5.000000</td>\n",
       "      <td>0.000000</td>\n",
       "      <td>1.000000</td>\n",
       "    </tr>\n",
       "    <tr>\n",
       "      <th>75%</th>\n",
       "      <td>17.250000</td>\n",
       "      <td>24.000000</td>\n",
       "      <td>19.000000</td>\n",
       "      <td>2.000000</td>\n",
       "      <td>52.000000</td>\n",
       "      <td>20.000000</td>\n",
       "      <td>0.000000</td>\n",
       "      <td>6.000000</td>\n",
       "    </tr>\n",
       "    <tr>\n",
       "      <th>max</th>\n",
       "      <td>262.000000</td>\n",
       "      <td>346.000000</td>\n",
       "      <td>86.000000</td>\n",
       "      <td>9.000000</td>\n",
       "      <td>360.000000</td>\n",
       "      <td>89.000000</td>\n",
       "      <td>14.000000</td>\n",
       "      <td>41.000000</td>\n",
       "    </tr>\n",
       "  </tbody>\n",
       "</table>\n",
       "</div>"
      ],
      "text/plain": [
       "       Player_Successful_Raids  Player_Raid_Points  Player_Successful_Tackles  \\\n",
       "count               296.000000          296.000000                 296.000000   \n",
       "mean                 20.628378           26.381757                  13.057432   \n",
       "std                  39.713684           50.428330                  16.313665   \n",
       "min                   1.000000            1.000000                   1.000000   \n",
       "25%                   2.000000            2.000000                   2.000000   \n",
       "50%                   3.000000            5.000000                   5.000000   \n",
       "75%                  17.250000           24.000000                  19.000000   \n",
       "max                 262.000000          346.000000                  86.000000   \n",
       "\n",
       "       Super_Tackles  Total_Points  Tackle_Points  Super_Raids  \\\n",
       "count     296.000000    296.000000     296.000000   296.000000   \n",
       "mean        1.104730     38.922297      13.780405     0.706081   \n",
       "std         1.784826     51.410518      17.559847     1.853470   \n",
       "min         0.000000      1.000000       1.000000     0.000000   \n",
       "25%         0.000000      5.000000       2.000000     0.000000   \n",
       "50%         0.000000     21.500000       5.000000     0.000000   \n",
       "75%         2.000000     52.000000      20.000000     0.000000   \n",
       "max         9.000000    360.000000      89.000000    14.000000   \n",
       "\n",
       "       DOD_Raid_Points  \n",
       "count       296.000000  \n",
       "mean          4.439189  \n",
       "std           7.829303  \n",
       "min           0.000000  \n",
       "25%           0.000000  \n",
       "50%           1.000000  \n",
       "75%           6.000000  \n",
       "max          41.000000  "
      ]
     },
     "execution_count": 5,
     "metadata": {},
     "output_type": "execute_result"
    }
   ],
   "source": [
    "df_statistics = df[[\"Player_Successful_Raids\",\"Player_Raid_Points\",\"Player_Successful_Tackles\",\"Super_Tackles\",\"Total_Points\",\"Tackle_Points\",\"Super_Raids\",\"DOD_Raid_Points\"]]\n",
    "df_statistics.describe()"
   ]
  },
  {
   "cell_type": "code",
   "execution_count": 6,
   "id": "752c4d55",
   "metadata": {},
   "outputs": [
    {
     "data": {
      "image/png": "[encoded data removed]",
      "text/plain": [
       "<Figure size 640x480 with 1 Axes>"
      ]
     },
     "metadata": {},
     "output_type": "display_data"
    }
   ],
   "source": [
    "sns.countplot(data=df, x=df[\"Retention\"])\n",
    "plt.show()"
   ]
  },
  {
   "cell_type": "code",
   "execution_count": 7,
   "id": "3b7032d2",
   "metadata": {},
   "outputs": [
    {
     "data": {
      "text/plain": [
       "0    161\n",
       "1    135\n",
       "Name: Retention, dtype: int64"
      ]
     },
     "execution_count": 7,
     "metadata": {},
     "output_type": "execute_result"
    }
   ],
   "source": [
    "df[\"Retention\"].value_counts()"
   ]
  },
  {
   "cell_type": "code",
   "execution_count": 8,
   "id": "235202e3",
   "metadata": {},
   "outputs": [
    {
     "name": "stdout",
     "output_type": "stream",
     "text": [
      "<class 'pandas.core.frame.DataFrame'>\n",
      "RangeIndex: 296 entries, 0 to 295\n",
      "Data columns (total 17 columns):\n",
      " #   Column                     Non-Null Count  Dtype  \n",
      "---  ------                     --------------  -----  \n",
      " 0   Season                     296 non-null    int64  \n",
      " 1   Team_Name                  296 non-null    object \n",
      " 2   Player_Name                296 non-null    object \n",
      " 3   Player_Position            296 non-null    object \n",
      " 4   Matches_Played             296 non-null    int64  \n",
      " 5   Player_Successful_Raids    296 non-null    int64  \n",
      " 6   Player_Raid_Points         296 non-null    int64  \n",
      " 7   Player_Successful_Tackles  296 non-null    int64  \n",
      " 8   Super_Tackles              296 non-null    float64\n",
      " 9   Super_10s                  296 non-null    float64\n",
      " 10  High_5s                    296 non-null    float64\n",
      " 11  Total_Points               296 non-null    int64  \n",
      " 12  Tackle_Points              296 non-null    int64  \n",
      " 13  Super_Raids                296 non-null    float64\n",
      " 14  DOD_Raid_Points            296 non-null    float64\n",
      " 15  Avg_Raid_Points            296 non-null    float64\n",
      " 16  Retention                  296 non-null    int64  \n",
      "dtypes: float64(6), int64(8), object(3)\n",
      "memory usage: 39.4+ KB\n"
     ]
    }
   ],
   "source": [
    "df.info()"
   ]
  },
  {
   "cell_type": "code",
   "execution_count": 9,
   "id": "50837da2",
   "metadata": {},
   "outputs": [
    {
     "data": {
      "text/plain": [
       "<AxesSubplot:>"
      ]
     },
     "execution_count": 9,
     "metadata": {},
     "output_type": "execute_result"
    },
    {
     "data": {
      "image/png": "[encoded data removed]",
      "text/plain": [
       "<Figure size 1100x600 with 2 Axes>"
      ]
     },
     "metadata": {},
     "output_type": "display_data"
    }
   ],
   "source": [
    "plt.figure(figsize=(11,6))\n",
    "sns.heatmap(df.corr(), annot=True)"
   ]
  },
  {
   "cell_type": "code",
   "execution_count": 10,
   "id": "a4c44b84",
   "metadata": {},
   "outputs": [
    {
     "data": {
      "text/plain": [
       "<AxesSubplot:>"
      ]
     },
     "execution_count": 10,
     "metadata": {},
     "output_type": "execute_result"
    },
    {
     "data": {
      "image/png": "[encoded data removed]",
      "text/plain": [
       "<Figure size 640x480 with 1 Axes>"
      ]
     },
     "metadata": {},
     "output_type": "display_data"
    }
   ],
   "source": [
    "df.corr()[\"Retention\"].sort_values().plot(kind=\"barh\")"
   ]
  },
  {
   "cell_type": "code",
   "execution_count": 11,
   "id": "1ef7667b",
   "metadata": {},
   "outputs": [
    {
     "data": {
      "text/plain": [
       "Season                       0\n",
       "Team_Name                    0\n",
       "Player_Name                  0\n",
       "Player_Position              0\n",
       "Matches_Played               0\n",
       "Player_Successful_Raids      0\n",
       "Player_Raid_Points           0\n",
       "Player_Successful_Tackles    0\n",
       "Super_Tackles                0\n",
       "Super_10s                    0\n",
       "High_5s                      0\n",
       "Total_Points                 0\n",
       "Tackle_Points                0\n",
       "Super_Raids                  0\n",
       "DOD_Raid_Points              0\n",
       "Avg_Raid_Points              0\n",
       "Retention                    0\n",
       "dtype: int64"
      ]
     },
     "execution_count": 11,
     "metadata": {},
     "output_type": "execute_result"
    }
   ],
   "source": [
    "df.isna().sum()"
   ]
  },
  {
   "cell_type": "markdown",
   "id": "18c83bc0",
   "metadata": {},
   "source": [
    "## Make the data into training and testing set"
   ]
  },
  {
   "cell_type": "code",
   "execution_count": 12,
   "id": "30b0eb58",
   "metadata": {},
   "outputs": [],
   "source": [
    "X = df.drop(columns=[\"Player_Name\",\"Retention\",\"Avg_Raid_Points\",\"Total_Points\",\"Super_Raids\"])\n",
    "y = df[\"Retention\"]"
   ]
  },
  {
   "cell_type": "code",
   "execution_count": 13,
   "id": "1bec8e2f",
   "metadata": {},
   "outputs": [
    {
     "data": {
      "text/plain": [
       "array([[ 1.,  0.,  0., ...,  0.,  5.,  8.],\n",
       "       [ 1.,  0.,  0., ...,  3., 51.,  7.],\n",
       "       [ 1.,  0.,  0., ...,  0.,  5., 10.],\n",
       "       ...,\n",
       "       [ 0.,  0.,  1., ...,  2., 51.,  0.],\n",
       "       [ 0.,  0.,  1., ...,  0.,  3.,  0.],\n",
       "       [ 0.,  0.,  1., ...,  0.,  1.,  0.]])"
      ]
     },
     "execution_count": 13,
     "metadata": {},
     "output_type": "execute_result"
    }
   ],
   "source": [
    "from sklearn.preprocessing import OneHotEncoder\n",
    "from sklearn.compose import ColumnTransformer\n",
    "\n",
    "columns = [\"Team_Name\",\"Player_Position\"]\n",
    "\n",
    "one_hot = OneHotEncoder()\n",
    "transform = ColumnTransformer([(\"one_hot\", \n",
    "                                one_hot, \n",
    "                                columns)], \n",
    "                              remainder=\"passthrough\")\n",
    "\n",
    "transform_X = transform.fit_transform(X)\n",
    "transform_X"
   ]
  },
  {
   "cell_type": "code",
   "execution_count": 14,
   "id": "972aa681",
   "metadata": {},
   "outputs": [
    {
     "data": {
      "text/html": [
       "<div>\n",
       "<style scoped>\n",
       "    .dataframe tbody tr th:only-of-type {\n",
       "        vertical-align: middle;\n",
       "    }\n",
       "\n",
       "    .dataframe tbody tr th {\n",
       "        vertical-align: top;\n",
       "    }\n",
       "\n",
       "    .dataframe thead th {\n",
       "        text-align: right;\n",
       "    }\n",
       "</style>\n",
       "<table border=\"1\" class=\"dataframe\">\n",
       "  <thead>\n",
       "    <tr style=\"text-align: right;\">\n",
       "      <th></th>\n",
       "      <th>0</th>\n",
       "      <th>1</th>\n",
       "      <th>2</th>\n",
       "      <th>3</th>\n",
       "      <th>4</th>\n",
       "      <th>5</th>\n",
       "      <th>6</th>\n",
       "      <th>7</th>\n",
       "      <th>8</th>\n",
       "      <th>9</th>\n",
       "      <th>10</th>\n",
       "      <th>11</th>\n",
       "      <th>12</th>\n",
       "      <th>13</th>\n",
       "      <th>14</th>\n",
       "      <th>15</th>\n",
       "    </tr>\n",
       "  </thead>\n",
       "  <tbody>\n",
       "    <tr>\n",
       "      <th>0</th>\n",
       "      <td>1.0</td>\n",
       "      <td>0.0</td>\n",
       "      <td>0.0</td>\n",
       "      <td>0.0</td>\n",
       "      <td>0.0</td>\n",
       "      <td>1.0</td>\n",
       "      <td>1.0</td>\n",
       "      <td>15.0</td>\n",
       "      <td>96.0</td>\n",
       "      <td>122.0</td>\n",
       "      <td>5.0</td>\n",
       "      <td>0.0</td>\n",
       "      <td>5.0</td>\n",
       "      <td>0.0</td>\n",
       "      <td>5.0</td>\n",
       "      <td>8.0</td>\n",
       "    </tr>\n",
       "    <tr>\n",
       "      <th>1</th>\n",
       "      <td>1.0</td>\n",
       "      <td>0.0</td>\n",
       "      <td>0.0</td>\n",
       "      <td>1.0</td>\n",
       "      <td>0.0</td>\n",
       "      <td>0.0</td>\n",
       "      <td>1.0</td>\n",
       "      <td>16.0</td>\n",
       "      <td>53.0</td>\n",
       "      <td>71.0</td>\n",
       "      <td>51.0</td>\n",
       "      <td>0.0</td>\n",
       "      <td>2.0</td>\n",
       "      <td>3.0</td>\n",
       "      <td>51.0</td>\n",
       "      <td>7.0</td>\n",
       "    </tr>\n",
       "    <tr>\n",
       "      <th>2</th>\n",
       "      <td>1.0</td>\n",
       "      <td>0.0</td>\n",
       "      <td>0.0</td>\n",
       "      <td>0.0</td>\n",
       "      <td>0.0</td>\n",
       "      <td>1.0</td>\n",
       "      <td>1.0</td>\n",
       "      <td>15.0</td>\n",
       "      <td>32.0</td>\n",
       "      <td>39.0</td>\n",
       "      <td>4.0</td>\n",
       "      <td>1.0</td>\n",
       "      <td>0.0</td>\n",
       "      <td>0.0</td>\n",
       "      <td>5.0</td>\n",
       "      <td>10.0</td>\n",
       "    </tr>\n",
       "    <tr>\n",
       "      <th>3</th>\n",
       "      <td>1.0</td>\n",
       "      <td>0.0</td>\n",
       "      <td>0.0</td>\n",
       "      <td>0.0</td>\n",
       "      <td>0.0</td>\n",
       "      <td>1.0</td>\n",
       "      <td>1.0</td>\n",
       "      <td>7.0</td>\n",
       "      <td>15.0</td>\n",
       "      <td>19.0</td>\n",
       "      <td>2.0</td>\n",
       "      <td>0.0</td>\n",
       "      <td>0.0</td>\n",
       "      <td>0.0</td>\n",
       "      <td>2.0</td>\n",
       "      <td>9.0</td>\n",
       "    </tr>\n",
       "    <tr>\n",
       "      <th>4</th>\n",
       "      <td>1.0</td>\n",
       "      <td>0.0</td>\n",
       "      <td>0.0</td>\n",
       "      <td>1.0</td>\n",
       "      <td>0.0</td>\n",
       "      <td>0.0</td>\n",
       "      <td>1.0</td>\n",
       "      <td>16.0</td>\n",
       "      <td>10.0</td>\n",
       "      <td>13.0</td>\n",
       "      <td>20.0</td>\n",
       "      <td>3.0</td>\n",
       "      <td>0.0</td>\n",
       "      <td>0.0</td>\n",
       "      <td>23.0</td>\n",
       "      <td>1.0</td>\n",
       "    </tr>\n",
       "    <tr>\n",
       "      <th>...</th>\n",
       "      <td>...</td>\n",
       "      <td>...</td>\n",
       "      <td>...</td>\n",
       "      <td>...</td>\n",
       "      <td>...</td>\n",
       "      <td>...</td>\n",
       "      <td>...</td>\n",
       "      <td>...</td>\n",
       "      <td>...</td>\n",
       "      <td>...</td>\n",
       "      <td>...</td>\n",
       "      <td>...</td>\n",
       "      <td>...</td>\n",
       "      <td>...</td>\n",
       "      <td>...</td>\n",
       "      <td>...</td>\n",
       "    </tr>\n",
       "    <tr>\n",
       "      <th>291</th>\n",
       "      <td>0.0</td>\n",
       "      <td>0.0</td>\n",
       "      <td>1.0</td>\n",
       "      <td>0.0</td>\n",
       "      <td>1.0</td>\n",
       "      <td>0.0</td>\n",
       "      <td>8.0</td>\n",
       "      <td>21.0</td>\n",
       "      <td>2.0</td>\n",
       "      <td>1.0</td>\n",
       "      <td>28.0</td>\n",
       "      <td>2.0</td>\n",
       "      <td>0.0</td>\n",
       "      <td>0.0</td>\n",
       "      <td>30.0</td>\n",
       "      <td>0.0</td>\n",
       "    </tr>\n",
       "    <tr>\n",
       "      <th>292</th>\n",
       "      <td>0.0</td>\n",
       "      <td>0.0</td>\n",
       "      <td>1.0</td>\n",
       "      <td>0.0</td>\n",
       "      <td>1.0</td>\n",
       "      <td>0.0</td>\n",
       "      <td>8.0</td>\n",
       "      <td>22.0</td>\n",
       "      <td>8.0</td>\n",
       "      <td>3.0</td>\n",
       "      <td>53.0</td>\n",
       "      <td>7.0</td>\n",
       "      <td>0.0</td>\n",
       "      <td>4.0</td>\n",
       "      <td>60.0</td>\n",
       "      <td>0.0</td>\n",
       "    </tr>\n",
       "    <tr>\n",
       "      <th>293</th>\n",
       "      <td>0.0</td>\n",
       "      <td>0.0</td>\n",
       "      <td>1.0</td>\n",
       "      <td>0.0</td>\n",
       "      <td>1.0</td>\n",
       "      <td>0.0</td>\n",
       "      <td>8.0</td>\n",
       "      <td>22.0</td>\n",
       "      <td>14.0</td>\n",
       "      <td>9.0</td>\n",
       "      <td>48.0</td>\n",
       "      <td>3.0</td>\n",
       "      <td>0.0</td>\n",
       "      <td>2.0</td>\n",
       "      <td>51.0</td>\n",
       "      <td>0.0</td>\n",
       "    </tr>\n",
       "    <tr>\n",
       "      <th>294</th>\n",
       "      <td>0.0</td>\n",
       "      <td>0.0</td>\n",
       "      <td>1.0</td>\n",
       "      <td>0.0</td>\n",
       "      <td>1.0</td>\n",
       "      <td>0.0</td>\n",
       "      <td>8.0</td>\n",
       "      <td>4.0</td>\n",
       "      <td>1.0</td>\n",
       "      <td>1.0</td>\n",
       "      <td>3.0</td>\n",
       "      <td>0.0</td>\n",
       "      <td>0.0</td>\n",
       "      <td>0.0</td>\n",
       "      <td>3.0</td>\n",
       "      <td>0.0</td>\n",
       "    </tr>\n",
       "    <tr>\n",
       "      <th>295</th>\n",
       "      <td>0.0</td>\n",
       "      <td>0.0</td>\n",
       "      <td>1.0</td>\n",
       "      <td>0.0</td>\n",
       "      <td>1.0</td>\n",
       "      <td>0.0</td>\n",
       "      <td>8.0</td>\n",
       "      <td>3.0</td>\n",
       "      <td>2.0</td>\n",
       "      <td>2.0</td>\n",
       "      <td>1.0</td>\n",
       "      <td>0.0</td>\n",
       "      <td>0.0</td>\n",
       "      <td>0.0</td>\n",
       "      <td>1.0</td>\n",
       "      <td>0.0</td>\n",
       "    </tr>\n",
       "  </tbody>\n",
       "</table>\n",
       "<p>296 rows × 16 columns</p>\n",
       "</div>"
      ],
      "text/plain": [
       "      0    1    2    3    4    5    6     7     8      9     10   11   12  \\\n",
       "0    1.0  0.0  0.0  0.0  0.0  1.0  1.0  15.0  96.0  122.0   5.0  0.0  5.0   \n",
       "1    1.0  0.0  0.0  1.0  0.0  0.0  1.0  16.0  53.0   71.0  51.0  0.0  2.0   \n",
       "2    1.0  0.0  0.0  0.0  0.0  1.0  1.0  15.0  32.0   39.0   4.0  1.0  0.0   \n",
       "3    1.0  0.0  0.0  0.0  0.0  1.0  1.0   7.0  15.0   19.0   2.0  0.0  0.0   \n",
       "4    1.0  0.0  0.0  1.0  0.0  0.0  1.0  16.0  10.0   13.0  20.0  3.0  0.0   \n",
       "..   ...  ...  ...  ...  ...  ...  ...   ...   ...    ...   ...  ...  ...   \n",
       "291  0.0  0.0  1.0  0.0  1.0  0.0  8.0  21.0   2.0    1.0  28.0  2.0  0.0   \n",
       "292  0.0  0.0  1.0  0.0  1.0  0.0  8.0  22.0   8.0    3.0  53.0  7.0  0.0   \n",
       "293  0.0  0.0  1.0  0.0  1.0  0.0  8.0  22.0  14.0    9.0  48.0  3.0  0.0   \n",
       "294  0.0  0.0  1.0  0.0  1.0  0.0  8.0   4.0   1.0    1.0   3.0  0.0  0.0   \n",
       "295  0.0  0.0  1.0  0.0  1.0  0.0  8.0   3.0   2.0    2.0   1.0  0.0  0.0   \n",
       "\n",
       "      13    14    15  \n",
       "0    0.0   5.0   8.0  \n",
       "1    3.0  51.0   7.0  \n",
       "2    0.0   5.0  10.0  \n",
       "3    0.0   2.0   9.0  \n",
       "4    0.0  23.0   1.0  \n",
       "..   ...   ...   ...  \n",
       "291  0.0  30.0   0.0  \n",
       "292  4.0  60.0   0.0  \n",
       "293  2.0  51.0   0.0  \n",
       "294  0.0   3.0   0.0  \n",
       "295  0.0   1.0   0.0  \n",
       "\n",
       "[296 rows x 16 columns]"
      ]
     },
     "execution_count": 14,
     "metadata": {},
     "output_type": "execute_result"
    }
   ],
   "source": [
    "pd.DataFrame(transform_X)"
   ]
  },
  {
   "cell_type": "code",
   "execution_count": 15,
   "id": "e9e97f4b",
   "metadata": {},
   "outputs": [],
   "source": [
    "from sklearn.preprocessing import StandardScaler\n",
    "\n",
    "scaler = StandardScaler()\n",
    "\n",
    "scaled_X = scaler.fit_transform(transform_X)"
   ]
  },
  {
   "cell_type": "markdown",
   "id": "d5af783a",
   "metadata": {},
   "source": [
    "## Splitting the data"
   ]
  },
  {
   "cell_type": "code",
   "execution_count": 16,
   "id": "c5fccf39",
   "metadata": {},
   "outputs": [],
   "source": [
    "from sklearn.model_selection import train_test_split\n",
    "\n",
    "X_train, X_test, y_train, y_test = train_test_split(scaled_X, \n",
    "                                                    y,\n",
    "                                                    test_size=0.3,\n",
    "                                                    random_state=123)"
   ]
  },
  {
   "cell_type": "code",
   "execution_count": 17,
   "id": "ca5c46d5",
   "metadata": {},
   "outputs": [
    {
     "name": "stdout",
     "output_type": "stream",
     "text": [
      "(207, 16) (89, 16)\n",
      "(207,) (89,)\n"
     ]
    }
   ],
   "source": [
    "print(X_train.shape, X_test.shape)\n",
    "print(y_train.shape, y_test.shape)"
   ]
  },
  {
   "cell_type": "markdown",
   "id": "5568df42",
   "metadata": {},
   "source": [
    "## Instantiate RandomForestClassifier"
   ]
  },
  {
   "cell_type": "code",
   "execution_count": 18,
   "id": "df10c3f4",
   "metadata": {},
   "outputs": [
    {
     "data": {
      "text/plain": [
       "RandomForestClassifier(criterion='entropy', max_depth=4, random_state=123)"
      ]
     },
     "execution_count": 18,
     "metadata": {},
     "output_type": "execute_result"
    }
   ],
   "source": [
    "from sklearn.ensemble import RandomForestClassifier\n",
    "\n",
    "# Set up random seed\n",
    "np.random.seed(42)\n",
    "\n",
    "rfc = RandomForestClassifier(n_estimators=100, \n",
    "                             random_state=123, \n",
    "                             max_depth=4, \n",
    "                             max_features=\"auto\", \n",
    "                             criterion=\"entropy\")\n",
    "\n",
    "# Fit the model to our data\n",
    "rfc.fit(X_train, y_train)"
   ]
  },
  {
   "cell_type": "code",
   "execution_count": 19,
   "id": "47408f26",
   "metadata": {},
   "outputs": [
    {
     "name": "stdout",
     "output_type": "stream",
     "text": [
      "Training Accuracy is:  0.8019323671497585\n",
      "Testing Accuracy is:  0.6741573033707865\n"
     ]
    }
   ],
   "source": [
    "# Accuracy on Training data\n",
    "print(\"Training Accuracy is: \", rfc.score(X_train, y_train))\n",
    "\n",
    "# Accuracy on Test data\n",
    "print(\"Testing Accuracy is: \", rfc.score(X_test, y_test))"
   ]
  },
  {
   "cell_type": "code",
   "execution_count": 20,
   "id": "0986e1a4",
   "metadata": {},
   "outputs": [
    {
     "data": {
      "text/plain": [
       "array([1, 0, 0, 1, 1, 0, 1, 0, 1, 1, 0, 1, 0, 0, 1, 0, 0, 1, 0, 1, 1, 0,\n",
       "       1, 1, 0, 0, 0, 1, 0, 0, 0, 0, 0, 1, 1, 0, 1, 0, 1, 1, 1, 0, 0, 0,\n",
       "       0, 0, 1, 1, 1, 1, 0, 0, 0, 0, 0, 1, 0, 0, 1, 0, 0, 1, 0, 1, 0, 0,\n",
       "       1, 1, 1, 1, 1, 1, 1, 0, 0, 0, 1, 0, 1, 1, 0, 1, 0, 1, 0, 1, 1, 1,\n",
       "       1], dtype=int64)"
      ]
     },
     "execution_count": 20,
     "metadata": {},
     "output_type": "execute_result"
    }
   ],
   "source": [
    "y_preds = rfc.predict(X_test)\n",
    "y_preds"
   ]
  },
  {
   "cell_type": "code",
   "execution_count": 21,
   "id": "3adb7510",
   "metadata": {},
   "outputs": [
    {
     "data": {
      "text/plain": [
       "0.6741573033707865"
      ]
     },
     "execution_count": 21,
     "metadata": {},
     "output_type": "execute_result"
    }
   ],
   "source": [
    "# Compare predictions to truth labels to evaluate the model\n",
    "np.mean(y_preds == y_test)"
   ]
  },
  {
   "cell_type": "code",
   "execution_count": 22,
   "id": "321f24c4",
   "metadata": {},
   "outputs": [
    {
     "data": {
      "text/html": [
       "<div>\n",
       "<style scoped>\n",
       "    .dataframe tbody tr th:only-of-type {\n",
       "        vertical-align: middle;\n",
       "    }\n",
       "\n",
       "    .dataframe tbody tr th {\n",
       "        vertical-align: top;\n",
       "    }\n",
       "\n",
       "    .dataframe thead th {\n",
       "        text-align: right;\n",
       "    }\n",
       "</style>\n",
       "<table border=\"1\" class=\"dataframe\">\n",
       "  <thead>\n",
       "    <tr style=\"text-align: right;\">\n",
       "      <th></th>\n",
       "      <th>Actual</th>\n",
       "      <th>Predicted</th>\n",
       "    </tr>\n",
       "  </thead>\n",
       "  <tbody>\n",
       "    <tr>\n",
       "      <th>81</th>\n",
       "      <td>1</td>\n",
       "      <td>1</td>\n",
       "    </tr>\n",
       "    <tr>\n",
       "      <th>125</th>\n",
       "      <td>0</td>\n",
       "      <td>0</td>\n",
       "    </tr>\n",
       "    <tr>\n",
       "      <th>105</th>\n",
       "      <td>0</td>\n",
       "      <td>0</td>\n",
       "    </tr>\n",
       "    <tr>\n",
       "      <th>274</th>\n",
       "      <td>1</td>\n",
       "      <td>1</td>\n",
       "    </tr>\n",
       "    <tr>\n",
       "      <th>167</th>\n",
       "      <td>0</td>\n",
       "      <td>1</td>\n",
       "    </tr>\n",
       "    <tr>\n",
       "      <th>233</th>\n",
       "      <td>0</td>\n",
       "      <td>0</td>\n",
       "    </tr>\n",
       "    <tr>\n",
       "      <th>30</th>\n",
       "      <td>0</td>\n",
       "      <td>1</td>\n",
       "    </tr>\n",
       "    <tr>\n",
       "      <th>160</th>\n",
       "      <td>0</td>\n",
       "      <td>0</td>\n",
       "    </tr>\n",
       "    <tr>\n",
       "      <th>11</th>\n",
       "      <td>1</td>\n",
       "      <td>1</td>\n",
       "    </tr>\n",
       "    <tr>\n",
       "      <th>211</th>\n",
       "      <td>1</td>\n",
       "      <td>1</td>\n",
       "    </tr>\n",
       "    <tr>\n",
       "      <th>175</th>\n",
       "      <td>0</td>\n",
       "      <td>0</td>\n",
       "    </tr>\n",
       "    <tr>\n",
       "      <th>31</th>\n",
       "      <td>0</td>\n",
       "      <td>1</td>\n",
       "    </tr>\n",
       "    <tr>\n",
       "      <th>200</th>\n",
       "      <td>0</td>\n",
       "      <td>0</td>\n",
       "    </tr>\n",
       "    <tr>\n",
       "      <th>259</th>\n",
       "      <td>0</td>\n",
       "      <td>0</td>\n",
       "    </tr>\n",
       "    <tr>\n",
       "      <th>29</th>\n",
       "      <td>0</td>\n",
       "      <td>1</td>\n",
       "    </tr>\n",
       "    <tr>\n",
       "      <th>71</th>\n",
       "      <td>1</td>\n",
       "      <td>0</td>\n",
       "    </tr>\n",
       "    <tr>\n",
       "      <th>72</th>\n",
       "      <td>1</td>\n",
       "      <td>0</td>\n",
       "    </tr>\n",
       "    <tr>\n",
       "      <th>218</th>\n",
       "      <td>1</td>\n",
       "      <td>1</td>\n",
       "    </tr>\n",
       "    <tr>\n",
       "      <th>102</th>\n",
       "      <td>0</td>\n",
       "      <td>0</td>\n",
       "    </tr>\n",
       "    <tr>\n",
       "      <th>191</th>\n",
       "      <td>0</td>\n",
       "      <td>1</td>\n",
       "    </tr>\n",
       "  </tbody>\n",
       "</table>\n",
       "</div>"
      ],
      "text/plain": [
       "     Actual  Predicted\n",
       "81        1          1\n",
       "125       0          0\n",
       "105       0          0\n",
       "274       1          1\n",
       "167       0          1\n",
       "233       0          0\n",
       "30        0          1\n",
       "160       0          0\n",
       "11        1          1\n",
       "211       1          1\n",
       "175       0          0\n",
       "31        0          1\n",
       "200       0          0\n",
       "259       0          0\n",
       "29        0          1\n",
       "71        1          0\n",
       "72        1          0\n",
       "218       1          1\n",
       "102       0          0\n",
       "191       0          1"
      ]
     },
     "execution_count": 22,
     "metadata": {},
     "output_type": "execute_result"
    }
   ],
   "source": [
    "dataset = pd.DataFrame({'Actual': y_test, 'Predicted': y_preds})\n",
    "dataset[:20]"
   ]
  },
  {
   "cell_type": "markdown",
   "id": "a64eb11a",
   "metadata": {},
   "source": [
    "## Evaluating the Model"
   ]
  },
  {
   "cell_type": "code",
   "execution_count": 23,
   "id": "5c024f38",
   "metadata": {},
   "outputs": [
    {
     "name": "stdout",
     "output_type": "stream",
     "text": [
      "0.6081220366934653\n"
     ]
    }
   ],
   "source": [
    "from sklearn.model_selection import cross_val_score\n",
    "\n",
    "print(np.mean(cross_val_score(rfc, transform_X, y, cv=3)))"
   ]
  },
  {
   "cell_type": "code",
   "execution_count": 24,
   "id": "e3e56a93",
   "metadata": {},
   "outputs": [
    {
     "data": {
      "text/plain": [
       "array([[33, 17],\n",
       "       [12, 27]], dtype=int64)"
      ]
     },
     "execution_count": 24,
     "metadata": {},
     "output_type": "execute_result"
    }
   ],
   "source": [
    "from sklearn.metrics import confusion_matrix, ConfusionMatrixDisplay\n",
    "\n",
    "confusion_matrix = confusion_matrix(y_test, y_preds)\n",
    "confusion_matrix"
   ]
  },
  {
   "cell_type": "code",
   "execution_count": 25,
   "id": "bc476c7d",
   "metadata": {},
   "outputs": [
    {
     "data": {
      "text/plain": [
       "<sklearn.metrics._plot.confusion_matrix.ConfusionMatrixDisplay at 0x25017d05cd0>"
      ]
     },
     "execution_count": 25,
     "metadata": {},
     "output_type": "execute_result"
    },
    {
     "data": {
      "image/png": "[encoded data removed]",
      "text/plain": [
       "<Figure size 640x480 with 2 Axes>"
      ]
     },
     "metadata": {},
     "output_type": "display_data"
    }
   ],
   "source": [
    "from sklearn.metrics import ConfusionMatrixDisplay\n",
    "\n",
    "ConfusionMatrixDisplay.from_predictions(y_test, y_preds)"
   ]
  },
  {
   "cell_type": "code",
   "execution_count": 26,
   "id": "474f75c0",
   "metadata": {},
   "outputs": [
    {
     "name": "stdout",
     "output_type": "stream",
     "text": [
      "              precision    recall  f1-score   support\n",
      "\n",
      "           0       0.73      0.66      0.69        50\n",
      "           1       0.61      0.69      0.65        39\n",
      "\n",
      "    accuracy                           0.67        89\n",
      "   macro avg       0.67      0.68      0.67        89\n",
      "weighted avg       0.68      0.67      0.68        89\n",
      "\n"
     ]
    }
   ],
   "source": [
    "from sklearn.metrics import classification_report\n",
    "\n",
    "print(classification_report(y_test, y_preds))"
   ]
  },
  {
   "cell_type": "code",
   "execution_count": 27,
   "id": "f82f46c7",
   "metadata": {
    "scrolled": true
   },
   "outputs": [
    {
     "name": "stdout",
     "output_type": "stream",
     "text": [
      "Classifier metrics on the test set: \n",
      "Accuracy: 67.42%\n",
      "Precision: 61.36%\n",
      "Recall: 69.23%\n",
      "F1 Score: 65.06%\n"
     ]
    }
   ],
   "source": [
    "from sklearn.metrics import accuracy_score, precision_score, recall_score, f1_score\n",
    "\n",
    "# Evaluate model using evaluating functions\n",
    "print(\"Classifier metrics on the test set: \")\n",
    "print(f\"Accuracy: {accuracy_score(y_test, y_preds)*100:.2f}%\") # Prediction is done here only\n",
    "print(f\"Precision: {precision_score(y_test, y_preds)*100:.2f}%\")\n",
    "print(f\"Recall: {recall_score(y_test, y_preds)*100:.2f}%\")\n",
    "print(f\"F1 Score: {f1_score(y_test, y_preds)*100:.2f}%\")"
   ]
  },
  {
   "cell_type": "code",
   "execution_count": 28,
   "id": "51c9ed5e",
   "metadata": {},
   "outputs": [
    {
     "name": "stdout",
     "output_type": "stream",
     "text": [
      "Classification accuracy on test set with max features = auto and max_depth = None: 0.6741573033707865\n",
      "Classification accuracy on test set with max features = auto and max_depth = 2: 0.6741573033707865\n",
      "Classification accuracy on test set with max features = auto and max_depth = 3: 0.6741573033707865\n",
      "Classification accuracy on test set with max features = auto and max_depth = 4: 0.6741573033707865\n",
      "Classification accuracy on test set with max features = sqrt and max_depth = None: 0.6741573033707865\n",
      "Classification accuracy on test set with max features = sqrt and max_depth = 2: 0.6741573033707865\n",
      "Classification accuracy on test set with max features = sqrt and max_depth = 3: 0.6741573033707865\n",
      "Classification accuracy on test set with max features = sqrt and max_depth = 4: 0.6741573033707865\n",
      "Classification accuracy on test set with max features = log2 and max_depth = None: 0.6741573033707865\n",
      "Classification accuracy on test set with max features = log2 and max_depth = 2: 0.6741573033707865\n",
      "Classification accuracy on test set with max features = log2 and max_depth = 3: 0.6741573033707865\n",
      "Classification accuracy on test set with max features = log2 and max_depth = 4: 0.6741573033707865\n"
     ]
    }
   ],
   "source": [
    "# Tuning Random Forest\n",
    "\n",
    "from itertools import product\n",
    "n_estimators = 100\n",
    "max_features = [\"auto\", 'sqrt', 'log2']\n",
    "max_depths = [None, 2, 3, 4]\n",
    "for f, d in product(max_features, max_depths): # To iterate through all possible combinations\n",
    "    rf = RandomForestClassifier(n_estimators=n_estimators, \n",
    "                                criterion='entropy', \n",
    "                                max_features=f, \n",
    "                                max_depth=d, \n",
    "                                random_state=123)\n",
    "    rfc.fit(X_train, y_train)\n",
    "    prediction_test = rfc.predict(X=X_test)\n",
    "    print(f'Classification accuracy on test set with max features = {f} and max_depth = {d}: {accuracy_score(y_test,prediction_test)}')"
   ]
  },
  {
   "cell_type": "code",
   "execution_count": 30,
   "id": "9d7a5db8",
   "metadata": {},
   "outputs": [
    {
     "data": {
      "text/plain": [
       "LogisticRegression()"
      ]
     },
     "execution_count": 30,
     "metadata": {},
     "output_type": "execute_result"
    }
   ],
   "source": [
    "from sklearn.linear_model import LogisticRegression\n",
    "\n",
    "# Set up random seed\n",
    "np.random.seed(42)\n",
    "\n",
    "model = LogisticRegression()\n",
    "\n",
    "# Fit the model to our data\n",
    "model.fit(X_train, y_train)"
   ]
  },
  {
   "cell_type": "code",
   "execution_count": 31,
   "id": "5fc2f227",
   "metadata": {},
   "outputs": [
    {
     "data": {
      "text/plain": [
       "0.5617977528089888"
      ]
     },
     "execution_count": 31,
     "metadata": {},
     "output_type": "execute_result"
    }
   ],
   "source": [
    "model.score(X_test, y_test)"
   ]
  },
  {
   "cell_type": "code",
   "execution_count": 33,
   "id": "6a861c84",
   "metadata": {},
   "outputs": [
    {
     "data": {
      "text/plain": [
       "array([1, 1, 0, 1, 0], dtype=int64)"
      ]
     },
     "execution_count": 33,
     "metadata": {},
     "output_type": "execute_result"
    }
   ],
   "source": [
    "predicts = model.predict(X_test)\n",
    "predicts[:5]"
   ]
  },
  {
   "cell_type": "code",
   "execution_count": 37,
   "id": "8f16d469",
   "metadata": {},
   "outputs": [
    {
     "name": "stdout",
     "output_type": "stream",
     "text": [
      "0.5036158192090395\n"
     ]
    },
    {
     "name": "stderr",
     "output_type": "stream",
     "text": [
      "C:\\Users\\Vishal Singh Rawat\\anaconda3\\lib\\site-packages\\sklearn\\linear_model\\_logistic.py:814: ConvergenceWarning: lbfgs failed to converge (status=1):\n",
      "STOP: TOTAL NO. of ITERATIONS REACHED LIMIT.\n",
      "\n",
      "Increase the number of iterations (max_iter) or scale the data as shown in:\n",
      "    https://scikit-learn.org/stable/modules/preprocessing.html\n",
      "Please also refer to the documentation for alternative solver options:\n",
      "    https://scikit-learn.org/stable/modules/linear_model.html#logistic-regression\n",
      "  n_iter_i = _check_optimize_result(\n",
      "C:\\Users\\Vishal Singh Rawat\\anaconda3\\lib\\site-packages\\sklearn\\linear_model\\_logistic.py:814: ConvergenceWarning: lbfgs failed to converge (status=1):\n",
      "STOP: TOTAL NO. of ITERATIONS REACHED LIMIT.\n",
      "\n",
      "Increase the number of iterations (max_iter) or scale the data as shown in:\n",
      "    https://scikit-learn.org/stable/modules/preprocessing.html\n",
      "Please also refer to the documentation for alternative solver options:\n",
      "    https://scikit-learn.org/stable/modules/linear_model.html#logistic-regression\n",
      "  n_iter_i = _check_optimize_result(\n",
      "C:\\Users\\Vishal Singh Rawat\\anaconda3\\lib\\site-packages\\sklearn\\linear_model\\_logistic.py:814: ConvergenceWarning: lbfgs failed to converge (status=1):\n",
      "STOP: TOTAL NO. of ITERATIONS REACHED LIMIT.\n",
      "\n",
      "Increase the number of iterations (max_iter) or scale the data as shown in:\n",
      "    https://scikit-learn.org/stable/modules/preprocessing.html\n",
      "Please also refer to the documentation for alternative solver options:\n",
      "    https://scikit-learn.org/stable/modules/linear_model.html#logistic-regression\n",
      "  n_iter_i = _check_optimize_result(\n",
      "C:\\Users\\Vishal Singh Rawat\\anaconda3\\lib\\site-packages\\sklearn\\linear_model\\_logistic.py:814: ConvergenceWarning: lbfgs failed to converge (status=1):\n",
      "STOP: TOTAL NO. of ITERATIONS REACHED LIMIT.\n",
      "\n",
      "Increase the number of iterations (max_iter) or scale the data as shown in:\n",
      "    https://scikit-learn.org/stable/modules/preprocessing.html\n",
      "Please also refer to the documentation for alternative solver options:\n",
      "    https://scikit-learn.org/stable/modules/linear_model.html#logistic-regression\n",
      "  n_iter_i = _check_optimize_result(\n",
      "C:\\Users\\Vishal Singh Rawat\\anaconda3\\lib\\site-packages\\sklearn\\linear_model\\_logistic.py:814: ConvergenceWarning: lbfgs failed to converge (status=1):\n",
      "STOP: TOTAL NO. of ITERATIONS REACHED LIMIT.\n",
      "\n",
      "Increase the number of iterations (max_iter) or scale the data as shown in:\n",
      "    https://scikit-learn.org/stable/modules/preprocessing.html\n",
      "Please also refer to the documentation for alternative solver options:\n",
      "    https://scikit-learn.org/stable/modules/linear_model.html#logistic-regression\n",
      "  n_iter_i = _check_optimize_result(\n"
     ]
    }
   ],
   "source": [
    "from sklearn.model_selection import cross_val_score\n",
    "\n",
    "print(np.mean(cross_val_score(model, transform_X, y, cv=5)))"
   ]
  },
  {
   "cell_type": "code",
   "execution_count": 40,
   "id": "87444552",
   "metadata": {},
   "outputs": [
    {
     "data": {
      "text/plain": [
       "KNeighborsClassifier()"
      ]
     },
     "execution_count": 40,
     "metadata": {},
     "output_type": "execute_result"
    }
   ],
   "source": [
    "from sklearn.neighbors import KNeighborsClassifier\n",
    "\n",
    "# Set up random seed\n",
    "np.random.seed(42)\n",
    "\n",
    "model1 = KNeighborsClassifier()\n",
    "\n",
    "# Fit the model to our data\n",
    "model1.fit(X_train, y_train)"
   ]
  },
  {
   "cell_type": "code",
   "execution_count": 41,
   "id": "20ba4095",
   "metadata": {},
   "outputs": [
    {
     "name": "stderr",
     "output_type": "stream",
     "text": [
      "C:\\Users\\Vishal Singh Rawat\\anaconda3\\lib\\site-packages\\sklearn\\neighbors\\_classification.py:228: FutureWarning: Unlike other reduction functions (e.g. `skew`, `kurtosis`), the default behavior of `mode` typically preserves the axis it acts along. In SciPy 1.11.0, this behavior will change: the default value of `keepdims` will become False, the `axis` over which the statistic is taken will be eliminated, and the value None will no longer be accepted. Set `keepdims` to True or False to avoid this warning.\n",
      "  mode, _ = stats.mode(_y[neigh_ind, k], axis=1)\n"
     ]
    },
    {
     "data": {
      "text/plain": [
       "0.5168539325842697"
      ]
     },
     "execution_count": 41,
     "metadata": {},
     "output_type": "execute_result"
    }
   ],
   "source": [
    "model1.score(X_test, y_test)"
   ]
  },
  {
   "cell_type": "code",
   "execution_count": 44,
   "id": "b217a534",
   "metadata": {},
   "outputs": [
    {
     "name": "stderr",
     "output_type": "stream",
     "text": [
      "C:\\Users\\Vishal Singh Rawat\\anaconda3\\lib\\site-packages\\sklearn\\neighbors\\_classification.py:228: FutureWarning: Unlike other reduction functions (e.g. `skew`, `kurtosis`), the default behavior of `mode` typically preserves the axis it acts along. In SciPy 1.11.0, this behavior will change: the default value of `keepdims` will become False, the `axis` over which the statistic is taken will be eliminated, and the value None will no longer be accepted. Set `keepdims` to True or False to avoid this warning.\n",
      "  mode, _ = stats.mode(_y[neigh_ind, k], axis=1)\n"
     ]
    },
    {
     "data": {
      "text/plain": [
       "array([1, 1, 0, 1, 1, 1, 0, 1, 0, 0], dtype=int64)"
      ]
     },
     "execution_count": 44,
     "metadata": {},
     "output_type": "execute_result"
    }
   ],
   "source": [
    "pred = model1.predict(X_test)\n",
    "pred[:10]"
   ]
  },
  {
   "cell_type": "code",
   "execution_count": 46,
   "id": "5aafed09",
   "metadata": {},
   "outputs": [
    {
     "name": "stdout",
     "output_type": "stream",
     "text": [
      "0.5777966101694915\n"
     ]
    },
    {
     "name": "stderr",
     "output_type": "stream",
     "text": [
      "C:\\Users\\Vishal Singh Rawat\\anaconda3\\lib\\site-packages\\sklearn\\neighbors\\_classification.py:228: FutureWarning: Unlike other reduction functions (e.g. `skew`, `kurtosis`), the default behavior of `mode` typically preserves the axis it acts along. In SciPy 1.11.0, this behavior will change: the default value of `keepdims` will become False, the `axis` over which the statistic is taken will be eliminated, and the value None will no longer be accepted. Set `keepdims` to True or False to avoid this warning.\n",
      "  mode, _ = stats.mode(_y[neigh_ind, k], axis=1)\n",
      "C:\\Users\\Vishal Singh Rawat\\anaconda3\\lib\\site-packages\\sklearn\\neighbors\\_classification.py:228: FutureWarning: Unlike other reduction functions (e.g. `skew`, `kurtosis`), the default behavior of `mode` typically preserves the axis it acts along. In SciPy 1.11.0, this behavior will change: the default value of `keepdims` will become False, the `axis` over which the statistic is taken will be eliminated, and the value None will no longer be accepted. Set `keepdims` to True or False to avoid this warning.\n",
      "  mode, _ = stats.mode(_y[neigh_ind, k], axis=1)\n",
      "C:\\Users\\Vishal Singh Rawat\\anaconda3\\lib\\site-packages\\sklearn\\neighbors\\_classification.py:228: FutureWarning: Unlike other reduction functions (e.g. `skew`, `kurtosis`), the default behavior of `mode` typically preserves the axis it acts along. In SciPy 1.11.0, this behavior will change: the default value of `keepdims` will become False, the `axis` over which the statistic is taken will be eliminated, and the value None will no longer be accepted. Set `keepdims` to True or False to avoid this warning.\n",
      "  mode, _ = stats.mode(_y[neigh_ind, k], axis=1)\n",
      "C:\\Users\\Vishal Singh Rawat\\anaconda3\\lib\\site-packages\\sklearn\\neighbors\\_classification.py:228: FutureWarning: Unlike other reduction functions (e.g. `skew`, `kurtosis`), the default behavior of `mode` typically preserves the axis it acts along. In SciPy 1.11.0, this behavior will change: the default value of `keepdims` will become False, the `axis` over which the statistic is taken will be eliminated, and the value None will no longer be accepted. Set `keepdims` to True or False to avoid this warning.\n",
      "  mode, _ = stats.mode(_y[neigh_ind, k], axis=1)\n",
      "C:\\Users\\Vishal Singh Rawat\\anaconda3\\lib\\site-packages\\sklearn\\neighbors\\_classification.py:228: FutureWarning: Unlike other reduction functions (e.g. `skew`, `kurtosis`), the default behavior of `mode` typically preserves the axis it acts along. In SciPy 1.11.0, this behavior will change: the default value of `keepdims` will become False, the `axis` over which the statistic is taken will be eliminated, and the value None will no longer be accepted. Set `keepdims` to True or False to avoid this warning.\n",
      "  mode, _ = stats.mode(_y[neigh_ind, k], axis=1)\n"
     ]
    }
   ],
   "source": [
    "from sklearn.model_selection import cross_val_score\n",
    "\n",
    "print(np.mean(cross_val_score(model1, transform_X, y, cv=5)))"
   ]
  },
  {
   "cell_type": "code",
   "execution_count": null,
   "id": "113a2b92",
   "metadata": {},
   "outputs": [],
   "source": []
  }
 ],
 "metadata": {
  "kernelspec": {
   "display_name": "Python 3 (ipykernel)",
   "language": "python",
   "name": "python3"
  },
  "language_info": {
   "codemirror_mode": {
    "name": "ipython",
    "version": 3
   },
   "file_extension": ".py",
   "mimetype": "text/x-python",
   "name": "python",
   "nbconvert_exporter": "python",
   "pygments_lexer": "ipython3",
   "version": "3.9.13"
  }
 },
 "nbformat": 4,
 "nbformat_minor": 5
}
